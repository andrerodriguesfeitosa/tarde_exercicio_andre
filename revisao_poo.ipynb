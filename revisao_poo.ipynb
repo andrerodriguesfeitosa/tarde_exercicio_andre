{
 "cells": [
  {
   "cell_type": "markdown",
   "metadata": {},
   "source": [
    "# Revisão POO\n",
    "\n",
    "### Criar uma classe que ajude no controle financeiro.\n",
    "- Os atributos são:\n",
    "    - Descrição\n",
    "    - Valor\n",
    "    - Categoria"
   ]
  },
  {
   "cell_type": "code",
   "execution_count": 35,
   "metadata": {},
   "outputs": [],
   "source": [
    "class ControleFinanceiro:\n",
    "\n",
    "    # Construtor\n",
    "    def __init__(self, descricao,valor,categoria):\n",
    "        self.descricao = descricao\n",
    "        self.valor = valor\n",
    "        self.categoria = categoria\n",
    "    \n",
    "    # métodos de trabalho\n",
    "    def verificar_valor(self):\n",
    "        if self.valor > 3000:\n",
    "            return  \"Alerta cartão!\"\n",
    "        \n",
    "        else:\n",
    "            return \"Faça sua compra!\"\n",
    "\n"
   ]
  },
  {
   "cell_type": "code",
   "execution_count": 37,
   "metadata": {},
   "outputs": [
    {
     "name": "stdout",
     "output_type": "stream",
     "text": [
      "Resultado: Faça sua compra! - Categoria: Lazer\n"
     ]
    }
   ],
   "source": [
    "cf = ControleFinanceiro(\"Cinemark Família\", 180, \"Lazer\")\n",
    "\n",
    "print(f\"Resultado: {cf.verificar_valor()} - Categoria: {cf.categoria}\")"
   ]
  },
  {
   "cell_type": "markdown",
   "metadata": {},
   "source": [
    "# Desafio\n",
    "\n",
    "- Criar uma classe com nome matemática\n",
    "- Criar um construtor com dois atributos com os nomes x,y\n",
    "- Criar um método para somar x,y\n",
    "- Criar um método para dividir x,y\n",
    "- Criar um método para calcular a média aritimética x,y \n",
    "- Criar um método para calcular a média ponderada com peso 1 e 2 "
   ]
  },
  {
   "cell_type": "code",
   "execution_count": 20,
   "metadata": {},
   "outputs": [],
   "source": [
    "class Matematica:\n",
    "    def __init__(self,x,y):\n",
    "        self.x = x\n",
    "        self.y = y\n",
    "    \n",
    "    def somar(self):\n",
    "        return self.x + self.y\n",
    "\n",
    "    def dividir(self):\n",
    "        return (\"Não pode ser dividido por 0\" if self.y == 0 else self.x / self.y)\n",
    "\n",
    "    def media_aritimetica(self):\n",
    "        return (self.somar() / 2)\n",
    "\n",
    "    def media_ponderada(self):\n",
    "        return ((self.x * 1) + (self.y * 2)) / 3\n"
   ]
  },
  {
   "cell_type": "code",
   "execution_count": 24,
   "metadata": {},
   "outputs": [
    {
     "name": "stdout",
     "output_type": "stream",
     "text": [
      "Soma: 10 | Divisão: Não pode ser dividido por 0 | Média Aritimética: 5.0 | Média Ponderada: 3.3333333333333335\n"
     ]
    }
   ],
   "source": [
    "mt = Matematica(10,0)\n",
    "\n",
    "print(f\"Soma: {mt.somar()} | Divisão: {mt.dividir()} | Média Aritimética: {mt.media_aritimetica()} | Média Ponderada: {mt.media_ponderada()}\")"
   ]
  }
 ],
 "metadata": {
  "kernelspec": {
   "display_name": ".venv",
   "language": "python",
   "name": "python3"
  },
  "language_info": {
   "codemirror_mode": {
    "name": "ipython",
    "version": 3
   },
   "file_extension": ".py",
   "mimetype": "text/x-python",
   "name": "python",
   "nbconvert_exporter": "python",
   "pygments_lexer": "ipython3",
   "version": "3.12.4"
  }
 },
 "nbformat": 4,
 "nbformat_minor": 2
}
